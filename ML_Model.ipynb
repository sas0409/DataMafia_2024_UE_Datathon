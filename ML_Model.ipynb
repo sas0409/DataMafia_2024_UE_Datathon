{
 "cells": [
  {
   "cell_type": "markdown",
   "id": "91845537",
   "metadata": {},
   "source": [
    "# Predicting CO₂ Emissions Reductions with Carbon Pricing and CCUS Projects\n",
    "\n",
    "In this notebook, we aim to predict the reduction in CO₂ emissions per capita based on the implementation of carbon pricing mechanisms and CCUS (Carbon Capture, Utilization, and Storage) projects globally. We will explore, clean, and analyze the datasets to build a predictive model that helps stakeholders understand the impact of these technologies and policies."
   ]
  },
  {
   "cell_type": "markdown",
   "id": "86a52c6e",
   "metadata": {},
   "source": [
    "### Importing Required Libraries\n",
    "This section imports the necessary libraries for data manipulation, visualization, and modeling."
   ]
  },
  {
   "cell_type": "markdown",
   "id": "a289372a",
   "metadata": {},
   "source": [
    "### Importing Required Libraries\n",
    "This section imports all the essential libraries required for data analysis, visualization, and machine learning. These libraries help with data processing, feature analysis, and model building. Pandas and NumPy are used for data manipulation, Seaborn and Matplotlib for data visualization, and Scikit-learn and XGBoost for building and evaluating machine learning models."
   ]
  },
  {
   "cell_type": "code",
   "execution_count": 1,
   "id": "05c84232",
   "metadata": {},
   "outputs": [],
   "source": [
    "import pandas as pd\n",
    "import numpy as np\n",
    "import matplotlib.pyplot as plt\n",
    "import seaborn as sns\n",
    "from sklearn.model_selection import train_test_split, cross_val_score\n",
    "from sklearn.linear_model import LinearRegression\n",
    "from sklearn.ensemble import RandomForestRegressor\n",
    "from sklearn.metrics import mean_squared_error, r2_score"
   ]
  },
  {
   "cell_type": "markdown",
   "id": "377f75ea",
   "metadata": {},
   "source": [
    "### Loading Dataset\n",
    "Loading the dataset containing carbon emissions and related features for analysis."
   ]
  },
  {
   "cell_type": "markdown",
   "id": "aac1fdf6",
   "metadata": {},
   "source": [
    "### Loading the Dataset\n",
    "In this step, we load the dataset that contains the features required for the prediction of carbon emissions per capita. This includes data on energy consumption, GDP, and various demographic and geographic information. Loading the dataset properly is crucial because it is the foundation of all subsequent analysis and modeling steps."
   ]
  },
  {
   "cell_type": "code",
   "execution_count": null,
   "id": "70156cc9",
   "metadata": {},
   "outputs": [],
   "source": [
    "# Load the datasets (replace with your file paths)\n",
    "co2_data = pd.read_excel('CO2 Per Capita Data.xlsx', sheet_name='Sheet1')\n",
    "countries_data = pd.read_csv('Countries.csv', encoding='ISO-8859-1')\n",
    "iea_cleaned_data = pd.read_csv('IEA_cleaned.csv', encoding='ISO-8859-1')\n",
    "compliance_emissions_data = pd.read_csv('compliance_emissions.csv', encoding='ISO-8859-1')\n",
    "compliance_revenue_data = pd.read_csv('compliance_revenue.csv', encoding='ISO-8859-1')"
   ]
  },
  {
   "cell_type": "code",
   "execution_count": null,
   "id": "4bd0fda0",
   "metadata": {},
   "outputs": [],
   "source": [
    "# Step 1: Merge CO2 data with Countries Data on 'Country' (CO2) and 'name' (Countries)\n",
    "merged_data = co2_data.merge(countries_data, left_on='Country', right_on='name', how='left')\n",
    "\n",
    "# Step 2: Merge with IEA Cleaned data\n",
    "merged_data = merged_data.merge(iea_cleaned_data, on='Country', how='left')\n",
    "\n",
    "# Step 3: Merge with Compliance Emissions data\n",
    "merged_data = merged_data.merge(compliance_emissions_data, on='Country', how='left')\n",
    "\n",
    "# Step 4: Merge with Compliance Revenue data\n",
    "merged_data = merged_data.merge(compliance_revenue_data, on='Country', how='left')\n",
    "\n",
    "# Step 5: Review the merged data to ensure there are no missing columns and that the data is in the right structure\n",
    "print(merged_data.head())\n",
    "\n",
    "# Step 6: Save the final merged data as a flat file (CSV) for ML use\n",
    "merged_data.to_csv('final_merged_flat_table.csv', index=False)"
   ]
  },
  {
   "cell_type": "markdown",
   "id": "f00ed0a7",
   "metadata": {},
   "source": [
    "### Loading Dataset\n",
    "Loading the dataset containing carbon emissions and related features for analysis."
   ]
  },
  {
   "cell_type": "markdown",
   "id": "005dce75",
   "metadata": {},
   "source": [
    "### Loading the Dataset\n",
    "In this step, we load the dataset that contains the features required for the prediction of carbon emissions per capita. This includes data on energy consumption, GDP, and various demographic and geographic information. Loading the dataset properly is crucial because it is the foundation of all subsequent analysis and modeling steps."
   ]
  },
  {
   "cell_type": "code",
   "execution_count": 2,
   "id": "4968fddb",
   "metadata": {
    "scrolled": true
   },
   "outputs": [
    {
     "name": "stderr",
     "output_type": "stream",
     "text": [
      "C:\\Users\\jigar\\AppData\\Local\\Temp\\ipykernel_11556\\1713039984.py:3: DtypeWarning: Columns (22,107) have mixed types. Specify dtype option on import or set low_memory=False.\n",
      "  merged_data = pd.read_csv(file_path)\n"
     ]
    }
   ],
   "source": [
    "# Load the dataset\n",
    "file_path = 'C:\\\\Users\\\\jigar\\\\Desktop\\\\final_merged_flat_table.csv'\n",
    "merged_data = pd.read_csv(file_path)"
   ]
  },
  {
   "cell_type": "code",
   "execution_count": 3,
   "id": "c985e51c",
   "metadata": {},
   "outputs": [
    {
     "name": "stdout",
     "output_type": "stream",
     "text": [
      "First 5 rows of cleaned data:\n",
      "          Country  Year  Total Population  Growth Rate %  Land Area (km²)  \\\n",
      "0     Afghanistan  2024          40121552           2.22         652867.0   \n",
      "1         Albania  2024           3107100           0.16          28748.0   \n",
      "2         Algeria  2024          47022473           1.54        2381741.0   \n",
      "3  American Samoa  2024             43895          -1.54            199.0   \n",
      "4         Andorra  2024             85370          -0.12            468.0   \n",
      "\n",
      "   Forest Cover Area (km²)  Per Capita GDP (PPP) (USD)  \\\n",
      "0                   1208.0                        2065   \n",
      "1                   7890.0                       15000   \n",
      "2                  19490.0                       13000   \n",
      "3                     17.0                       11200   \n",
      "4                     16.0                       49900   \n",
      "\n",
      "   Per Capita Energy Consumption (kWh)  Per Capita Carbon Emissions (tonnes)  \\\n",
      "0                                  677                                 0.212   \n",
      "1                                14100                                 1.812   \n",
      "2                                15252                                 3.612   \n",
      "3                                29464                                 2.512   \n",
      "4                                49900                                 6.512   \n",
      "\n",
      "  Government Type  ...  2014_y  2015_y  2016_y  2017_y  2018_y 2019_y 2020_y  \\\n",
      "0        Republic  ...     NaN     NaN     NaN     NaN     NaN    NaN    NaN   \n",
      "1       Democracy  ...     0.0     0.0     NaN     NaN     NaN    NaN    NaN   \n",
      "2        Republic  ...     NaN     NaN     NaN     NaN     NaN    NaN    NaN   \n",
      "3           Other  ...     NaN     NaN     NaN     NaN     NaN    NaN    NaN   \n",
      "4       Democracy  ...     NaN     NaN     NaN     NaN     NaN    NaN    NaN   \n",
      "\n",
      "  2021_y  2022_y 2023_y  \n",
      "0    NaN     NaN    NaN  \n",
      "1    NaN     NaN    NaN  \n",
      "2    NaN     NaN    NaN  \n",
      "3    NaN     NaN    NaN  \n",
      "4    NaN     NaN    NaN  \n",
      "\n",
      "[5 rows x 113 columns]\n",
      "\n",
      "Missing value count:\n",
      "Country                0\n",
      "Year                   0\n",
      "Total Population       0\n",
      "Growth Rate %          0\n",
      "Land Area (km²)        0\n",
      "                    ... \n",
      "2019_y              5807\n",
      "2020_y              4325\n",
      "2021_y              5919\n",
      "2022_y              5945\n",
      "2023_y              6194\n",
      "Length: 113, dtype: int64\n"
     ]
    },
    {
     "name": "stderr",
     "output_type": "stream",
     "text": [
      "C:\\Users\\jigar\\AppData\\Local\\Temp\\ipykernel_11556\\934237035.py:10: SettingWithCopyWarning: \n",
      "A value is trying to be set on a copy of a slice from a DataFrame.\n",
      "Try using .loc[row_indexer,col_indexer] = value instead\n",
      "\n",
      "See the caveats in the documentation: https://pandas.pydata.org/pandas-docs/stable/user_guide/indexing.html#returning-a-view-versus-a-copy\n",
      "  merged_data_cleaned['Per Capita Carbon Emissions (tonnes)'] = merged_data_cleaned['Per Capita Carbon Emissions (tonnes)'].astype(float)\n",
      "C:\\Users\\jigar\\AppData\\Local\\Temp\\ipykernel_11556\\934237035.py:11: SettingWithCopyWarning: \n",
      "A value is trying to be set on a copy of a slice from a DataFrame\n",
      "\n",
      "See the caveats in the documentation: https://pandas.pydata.org/pandas-docs/stable/user_guide/indexing.html#returning-a-view-versus-a-copy\n",
      "  merged_data_cleaned['Per Capita Carbon Emissions (tonnes)'].fillna(merged_data_cleaned['Per Capita Carbon Emissions (tonnes)'].mean(), inplace=True)\n"
     ]
    }
   ],
   "source": [
    "# Replace \"Not available\" with NaN for proper handling of missing data\n",
    "merged_data.replace(\"Not available\", np.nan, inplace=True)\n",
    "\n",
    "# Drop columns with too many missing values (e.g., more than 40% missing)\n",
    "threshold = len(merged_data) * 0.4\n",
    "merged_data_cleaned = merged_data.dropna(thresh=threshold, axis=1)\n",
    "\n",
    "# Handle missing values in key columns (example: fill with the mean for emissions)\n",
    "if 'Per Capita Carbon Emissions (tonnes)' in merged_data_cleaned.columns:\n",
    "    merged_data_cleaned['Per Capita Carbon Emissions (tonnes)'] = merged_data_cleaned['Per Capita Carbon Emissions (tonnes)'].astype(float)\n",
    "    merged_data_cleaned['Per Capita Carbon Emissions (tonnes)'].fillna(merged_data_cleaned['Per Capita Carbon Emissions (tonnes)'].mean(), inplace=True)\n",
    "\n",
    "# Check for any remaining missing values\n",
    "missing_values = merged_data_cleaned.isnull().sum()\n",
    "\n",
    "# Display cleaned data and missing value count\n",
    "print(\"First 5 rows of cleaned data:\")\n",
    "print(merged_data_cleaned.head())\n",
    "\n",
    "print(\"\\nMissing value count:\")\n",
    "print(missing_values)"
   ]
  },
  {
   "cell_type": "markdown",
   "id": "e6288c95",
   "metadata": {},
   "source": [
    "### Importing Required Libraries\n",
    "This section imports the necessary libraries for data manipulation, visualization, and modeling."
   ]
  },
  {
   "cell_type": "markdown",
   "id": "c2b62c2a",
   "metadata": {},
   "source": [
    "### Importing Required Libraries\n",
    "This section imports all the essential libraries required for data analysis, visualization, and machine learning. These libraries help with data processing, feature analysis, and model building. Pandas and NumPy are used for data manipulation, Seaborn and Matplotlib for data visualization, and Scikit-learn and XGBoost for building and evaluating machine learning models."
   ]
  },
  {
   "cell_type": "code",
   "execution_count": 4,
   "id": "6a9a0d2d",
   "metadata": {},
   "outputs": [
    {
     "data": {
      "image/png": "[encoded data removed]",
      "text/plain": [
       "<Figure size 1000x600 with 1 Axes>"
      ]
     },
     "metadata": {},
     "output_type": "display_data"
    }
   ],
   "source": [
    "# Exploratory Data Analysis (EDA)\n",
    "\n",
    "# Import necessary libraries\n",
    "import matplotlib.pyplot as plt\n",
    "import seaborn as sns\n",
    "\n",
    "# Set up the style of seaborn plots\n",
    "sns.set(style=\"whitegrid\")\n",
    "\n",
    "# Set the figure size\n",
    "plt.figure(figsize=(10,6))\n",
    "\n",
    "# Create the boxplot\n",
    "sns.boxplot(x=merged_data_cleaned['Per Capita Carbon Emissions (tonnes)'], color=\"blue\")\n",
    "\n",
    "# Set plot labels and title\n",
    "plt.title(\"Boxplot of Per Capita Carbon Emissions\")\n",
    "plt.xlabel(\"Per Capita Carbon Emissions (tonnes)\")\n",
    "\n",
    "# Add annotations for points with emissions greater than 15\n",
    "threshold = 15\n",
    "outliers = merged_data_cleaned[merged_data_cleaned['Per Capita Carbon Emissions (tonnes)'] > threshold]\n",
    "\n",
    "for i in range(outliers.shape[0]):\n",
    "    plt.text(outliers['Per Capita Carbon Emissions (tonnes)'].iloc[i],\n",
    "             0.02,  # Adjust the height slightly above the x-axis\n",
    "             outliers['Country'].iloc[i],\n",
    "             fontsize=9,\n",
    "             color='red',\n",
    "             ha='center',\n",
    "             rotation=90)  # Rotate the text to vertical\n",
    "\n",
    "# Show plot\n",
    "plt.show()"
   ]
  },
  {
   "cell_type": "markdown",
   "id": "0679208b",
   "metadata": {},
   "source": [
    "**Boxplot of Per Capita Carbon Emissions**\n",
    "This boxplot shows the distribution of per capita carbon emissions across countries. The spread indicates that most countries have emissions clustered between 0 and 5 tonnes per person. Outliers, especially beyond 15 tonnes, reflect countries with exceptionally high emissions per capita, which could be indicative of industrialized nations or those with heavy reliance on fossil fuels. This insight helps identify countries with anomalous emissions behavior, crucial for understanding the target variable's distribution in an ML model."
   ]
  },
  {
   "cell_type": "markdown",
   "id": "8b63ac8f",
   "metadata": {},
   "source": [
    "### Data Visualization\n",
    "Plotting data to understand trends and relationships between different features."
   ]
  },
  {
   "cell_type": "markdown",
   "id": "926d6343",
   "metadata": {},
   "source": [
    "### Data Visualization - Initial Analysis\n",
    "This section visualizes various features from the dataset to understand underlying patterns, distributions, and relationships. Visualization is critical to identify trends, correlations, and outliers that could influence the effectiveness of the predictive model."
   ]
  },
  {
   "cell_type": "code",
   "execution_count": 5,
   "id": "4032aed7",
   "metadata": {},
   "outputs": [
    {
     "data": {
      "image/png": "[encoded data removed]",
      "text/plain": [
       "<Figure size 1000x600 with 1 Axes>"
      ]
     },
     "metadata": {},
     "output_type": "display_data"
    }
   ],
   "source": [
    "# 2. Scatter plot: Per Capita Emissions vs. Total Population\n",
    "plt.figure(figsize=(10,6))\n",
    "\n",
    "# Create scatter plot\n",
    "sns.scatterplot(x=np.log(merged_data_cleaned['Total Population']), \n",
    "                y=merged_data_cleaned['Per Capita Carbon Emissions (tonnes)'], \n",
    "                data=merged_data_cleaned)\n",
    "\n",
    "# Add annotations for points with emissions greater than 15\n",
    "threshold = 15\n",
    "outliers = merged_data_cleaned[merged_data_cleaned['Per Capita Carbon Emissions (tonnes)'] > threshold]\n",
    "\n",
    "for i in range(outliers.shape[0]):\n",
    "    plt.text(np.log(outliers['Total Population'].iloc[i]), \n",
    "             outliers['Per Capita Carbon Emissions (tonnes)'].iloc[i] + 0.5,  # Adjust the vertical position\n",
    "             outliers['Country'].iloc[i], \n",
    "             fontsize=7, \n",
    "             color='red', \n",
    "             ha='right',  # Horizontal alignment to the right of the point\n",
    "             rotation=90)  # Rotate the text vertically\n",
    "\n",
    "# Set plot labels and title\n",
    "plt.title('Log-Scale: Per Capita Carbon Emissions vs. Total Population')\n",
    "plt.xlabel('Log of Total Population')\n",
    "plt.ylabel('Per Capita Carbon Emissions (tonnes)')\n",
    "\n",
    "# Show plot\n",
    "plt.show()"
   ]
  },
  {
   "cell_type": "markdown",
   "id": "08d61ea1",
   "metadata": {},
   "source": [
    "**Scatter Plot: Log of Total Population vs. Per Capita Carbon Emissions**\n",
    "This scatter plot visualizes the relationship between the log of the total population and per capita carbon emissions. The lack of a clear trend suggests that population size alone isn't a direct indicator of emissions. Some smaller nations exhibit higher emissions, while larger ones are spread across a wider range. This relationship helps us assess whether population size should be included as a feature in the predictive ML model."
   ]
  },
  {
   "cell_type": "markdown",
   "id": "b70fea8d",
   "metadata": {},
   "source": [
    "### Data Visualization\n",
    "Plotting data to understand trends and relationships between different features."
   ]
  },
  {
   "cell_type": "markdown",
   "id": "429d1c71",
   "metadata": {},
   "source": [
    "### Data Visualization - Initial Analysis\n",
    "This section visualizes various features from the dataset to understand underlying patterns, distributions, and relationships. Visualization is critical to identify trends, correlations, and outliers that could influence the effectiveness of the predictive model."
   ]
  },
  {
   "cell_type": "code",
   "execution_count": 6,
   "id": "e22c2f35",
   "metadata": {},
   "outputs": [
    {
     "data": {
      "image/png": "[encoded data removed]",
      "text/plain": [
       "<Figure size 1200x800 with 2 Axes>"
      ]
     },
     "metadata": {},
     "output_type": "display_data"
    }
   ],
   "source": [
    "# 3. Correlation Heatmap\n",
    "plt.figure(figsize=(12,8))\n",
    "corr = merged_data_cleaned[['Total Population', 'Per Capita GDP (PPP) (USD)', \n",
    "                            'Per Capita Energy Consumption (kWh)', 'Per Capita Carbon Emissions (tonnes)']].corr()\n",
    "sns.heatmap(corr, annot=True, cmap='coolwarm', fmt=\".2f\")\n",
    "plt.title('Correlation Heatmap')\n",
    "plt.show()"
   ]
  },
  {
   "cell_type": "markdown",
   "id": "f1cc1ac0",
   "metadata": {},
   "source": [
    "**Correlation Heatmap of Key Features**\n",
    "The heatmap reveals strong negative correlations between total population and per capita emissions (-0.78), suggesting that countries with larger populations tend to have lower emissions per capita. Strong positive correlations, such as between per capita GDP and energy consumption (0.88), indicate that wealthier nations tend to consume more energy. These patterns can inform feature selection for the ML model by focusing on factors like GDP and energy consumption."
   ]
  },
  {
   "cell_type": "markdown",
   "id": "519c7214",
   "metadata": {},
   "source": [
    "### Data Visualization\n",
    "Plotting data to understand trends and relationships between different features."
   ]
  },
  {
   "cell_type": "markdown",
   "id": "f2993257",
   "metadata": {},
   "source": [
    "**Top 6 Countries by Per Capita Carbon Emissions**\n",
    "This bar plot highlights the countries with the highest per capita carbon emissions. Qatar, Brunei, and Kuwait top the list, indicating that small, oil-rich nations have the highest emissions per capita. Understanding the patterns in these high-emission countries helps in exploring regional and economic factors that influence emissions, which can be modeled to predict carbon output."
   ]
  },
  {
   "cell_type": "markdown",
   "id": "4c72332c",
   "metadata": {},
   "source": [
    "### Data Visualization\n",
    "Plotting data to understand trends and relationships between different features."
   ]
  },
  {
   "cell_type": "markdown",
   "id": "1f8af506",
   "metadata": {},
   "source": [
    "### Data Visualization - Initial Analysis\n",
    "This section visualizes various features from the dataset to understand underlying patterns, distributions, and relationships. Visualization is critical to identify trends, correlations, and outliers that could influence the effectiveness of the predictive model."
   ]
  },
  {
   "cell_type": "code",
   "execution_count": null,
   "id": "43a88279",
   "metadata": {},
   "outputs": [],
   "source": [
    "# 5. Scatter plot: Per Capita Carbon Emissions vs. Per Capita GDP (PPP)\n",
    "plt.figure(figsize=(10,6))\n",
    "sns.scatterplot(x='Per Capita GDP (PPP) (USD)', y='Per Capita Carbon Emissions (tonnes)', data=merged_data_cleaned, hue='Region', palette=\"coolwarm\")\n",
    "plt.title('Per Capita Carbon Emissions vs. Per Capita GDP (PPP)')\n",
    "plt.xlabel('Per Capita GDP (PPP) (USD)')\n",
    "plt.ylabel('Per Capita Carbon Emissions (tonnes)')\n",
    "plt.legend(title='Region', loc='upper right')\n",
    "plt.show()"
   ]
  },
  {
   "cell_type": "markdown",
   "id": "2221101e",
   "metadata": {},
   "source": [
    "**Scatter Plot: Per Capita Carbon Emissions vs. Per Capita GDP (PPP)**\n",
    "This plot explores the relationship between per capita GDP and carbon emissions. Regions like North America and Europe tend to have higher GDP and moderate emissions. Countries in East Asia and the Pacific display varied behavior, suggesting economic development impacts emissions differently across regions. This visualization helps identify regional economic patterns influencing emissions."
   ]
  },
  {
   "cell_type": "markdown",
   "id": "e2af10ca",
   "metadata": {},
   "source": [
    "### Data Visualization\n",
    "Plotting data to understand trends and relationships between different features."
   ]
  },
  {
   "cell_type": "markdown",
   "id": "c95fa7c1",
   "metadata": {},
   "source": [
    "### Data Visualization - Initial Analysis\n",
    "This section visualizes various features from the dataset to understand underlying patterns, distributions, and relationships. Visualization is critical to identify trends, correlations, and outliers that could influence the effectiveness of the predictive model."
   ]
  },
  {
   "cell_type": "code",
   "execution_count": null,
   "id": "4a9d5085",
   "metadata": {},
   "outputs": [],
   "source": [
    "# 6. Full Correlation Heatmap with more features\n",
    "plt.figure(figsize=(14,10))\n",
    "corr_matrix = merged_data_cleaned[['Per Capita Carbon Emissions (tonnes)', 'Per Capita GDP (PPP) (USD)', \n",
    "                                   'Per Capita Energy Consumption (kWh)', 'Ease of Doing Business Ranking', \n",
    "                                   'Happiness Index Ranking', 'Growth Rate %', 'Forest Cover Area (km²)']].corr()\n",
    "sns.heatmap(corr_matrix, annot=True, cmap='coolwarm', fmt=\".2f\")\n",
    "plt.title('Correlation Heatmap of Key Features')\n",
    "plt.show()"
   ]
  },
  {
   "cell_type": "markdown",
   "id": "61debc2a",
   "metadata": {},
   "source": [
    "**Correlation Heatmap of Key Features**\n",
    "This expanded heatmap includes more features such as the ease of doing business and happiness index. Positive correlations with carbon emissions and features like GDP and energy consumption indicate that economic factors are strong predictors of carbon emissions. Meanwhile, weak correlations with social metrics (e.g., happiness) suggest that those features may not be as influential. This informs the feature selection process for the model."
   ]
  },
  {
   "cell_type": "markdown",
   "id": "5c9aa8e3",
   "metadata": {},
   "source": [
    "### Importing Required Libraries\n",
    "This section imports the necessary libraries for data manipulation, visualization, and modeling."
   ]
  },
  {
   "cell_type": "markdown",
   "id": "faba3f01",
   "metadata": {},
   "source": [
    "### Importing Required Libraries\n",
    "This section imports all the essential libraries required for data analysis, visualization, and machine learning. These libraries help with data processing, feature analysis, and model building. Pandas and NumPy are used for data manipulation, Seaborn and Matplotlib for data visualization, and Scikit-learn and XGBoost for building and evaluating machine learning models."
   ]
  },
  {
   "cell_type": "code",
   "execution_count": 8,
   "id": "6e20de9f",
   "metadata": {},
   "outputs": [
    {
     "data": {
      "image/png": "[encoded data removed]",
      "text/plain": [
       "<Figure size 1200x800 with 1 Axes>"
      ]
     },
     "metadata": {},
     "output_type": "display_data"
    }
   ],
   "source": [
    "import matplotlib.pyplot as plt\n",
    "import seaborn as sns\n",
    "\n",
    "# 7. Boxplot of Per Capita Carbon Emissions by Government Type\n",
    "plt.figure(figsize=(12,8))\n",
    "\n",
    "# Create the boxplot\n",
    "sns.boxplot(x='Government Type', y='Per Capita Carbon Emissions (tonnes)', data=merged_data_cleaned)\n",
    "plt.title('Per Capita Carbon Emissions by Government Type')\n",
    "plt.xticks(rotation=45)\n",
    "plt.xlabel('Government Type')\n",
    "plt.ylabel('Per Capita Carbon Emissions (tonnes)')\n",
    "\n",
    "# Define threshold for outliers\n",
    "threshold = 15\n",
    "outliers = merged_data_cleaned[merged_data_cleaned['Per Capita Carbon Emissions (tonnes)'] > threshold]\n",
    "\n",
    "# Get the x positions for the categorical labels (Government Type)\n",
    "x_positions = {category: pos for pos, category in enumerate(merged_data_cleaned['Government Type'].unique())}\n",
    "\n",
    "# Loop through the outliers and label them\n",
    "for i in range(outliers.shape[0]):\n",
    "    gov_type = outliers['Government Type'].iloc[i]\n",
    "    x_pos = x_positions[gov_type]  # Get the x position for the categorical label\n",
    "    plt.text(x=x_pos, \n",
    "             y=outliers['Per Capita Carbon Emissions (tonnes)'].iloc[i] + 0.2,  # Adjust position above the point\n",
    "             s=outliers['Country'].iloc[i], \n",
    "             fontsize=7, \n",
    "             color='black', \n",
    "             ha='center')\n",
    "           \n",
    "# Show the plot\n",
    "plt.show()"
   ]
  },
  {
   "cell_type": "markdown",
   "id": "4e021af2",
   "metadata": {},
   "source": [
    "**Per Capita Carbon Emissions by Government Type**\n",
    "This boxplot shows the variation in emissions across different government systems. Monarchies and one-party states exhibit higher emissions compared to republics and democracies, likely due to economic factors. This plot highlights governance types' potential influence on emissions, which could be a relevant feature for the ML model."
   ]
  },
  {
   "cell_type": "markdown",
   "id": "a3004fce",
   "metadata": {},
   "source": [
    "### Data Visualization\n",
    "Plotting data to understand trends and relationships between different features."
   ]
  },
  {
   "cell_type": "markdown",
   "id": "a3f5befa",
   "metadata": {},
   "source": [
    "### Data Visualization - Initial Analysis\n",
    "This section visualizes various features from the dataset to understand underlying patterns, distributions, and relationships. Visualization is critical to identify trends, correlations, and outliers that could influence the effectiveness of the predictive model."
   ]
  },
  {
   "cell_type": "code",
   "execution_count": null,
   "id": "6bdba15d",
   "metadata": {},
   "outputs": [],
   "source": [
    "# 8. Pair plot with selected features\n",
    "sns.pairplot(merged_data_cleaned[['Per Capita Carbon Emissions (tonnes)', 'Per Capita GDP (PPP) (USD)', \n",
    "                                  'Per Capita Energy Consumption (kWh)', 'Growth Rate %', 'Region']], \n",
    "             hue='Region', palette=\"Set1\")\n",
    "plt.title('Pair Plot of Key Features by Region')\n",
    "plt.show()"
   ]
  },
  {
   "cell_type": "markdown",
   "id": "2d0bae4f",
   "metadata": {},
   "source": [
    "**Pair Plot of Key Features by Region**\n",
    "This pair plot explores relationships between key features like carbon emissions, GDP, and energy consumption across different regions. It helps identify trends and outliers for specific regions. For example, North America exhibits strong clustering, suggesting consistency in emissions and GDP. This can help in regional modeling of emissions patterns."
   ]
  },
  {
   "cell_type": "markdown",
   "id": "da8f5a28",
   "metadata": {},
   "source": [
    "### Data Visualization\n",
    "Plotting data to understand trends and relationships between different features."
   ]
  },
  {
   "cell_type": "markdown",
   "id": "027e67bd",
   "metadata": {},
   "source": [
    "### Data Visualization - Initial Analysis\n",
    "This section visualizes various features from the dataset to understand underlying patterns, distributions, and relationships. Visualization is critical to identify trends, correlations, and outliers that could influence the effectiveness of the predictive model."
   ]
  },
  {
   "cell_type": "code",
   "execution_count": null,
   "id": "56811707",
   "metadata": {},
   "outputs": [],
   "source": [
    "# 9. Bar plot: Average Carbon Emissions by Region\n",
    "plt.figure(figsize=(12,8))\n",
    "avg_emissions_by_region = merged_data_cleaned.groupby('Region')['Per Capita Carbon Emissions (tonnes)'].mean().sort_values(ascending=False)\n",
    "sns.barplot(x=avg_emissions_by_region, y=avg_emissions_by_region.index, palette=\"viridis\")\n",
    "plt.title('Average Per Capita Carbon Emissions by Region')\n",
    "plt.xlabel('Average Per Capita Carbon Emissions (tonnes)')\n",
    "plt.ylabel('Region')\n",
    "plt.show()"
   ]
  },
  {
   "cell_type": "markdown",
   "id": "ae7f358e",
   "metadata": {},
   "source": [
    "**Average Per Capita Carbon Emissions by Region**\n",
    "This bar plot shows the average emissions per region, with North America leading, followed by Sub-Saharan Africa. This regional breakdown helps us understand geographical differences in emissions and suggests that regional factors could be crucial in developing the predictive model."
   ]
  },
  {
   "cell_type": "markdown",
   "id": "d88cab13",
   "metadata": {},
   "source": [
    "# Feature Engineering"
   ]
  },
  {
   "cell_type": "code",
   "execution_count": 9,
   "id": "dfb9da77",
   "metadata": {},
   "outputs": [
    {
     "name": "stdout",
     "output_type": "stream",
     "text": [
      "          Country  Year  Total Population  Growth Rate %  Land Area (km²)  \\\n",
      "0     Afghanistan  2024          40121552           2.22         652867.0   \n",
      "1         Albania  2024           3107100           0.16          28748.0   \n",
      "2         Algeria  2024          47022473           1.54        2381741.0   \n",
      "3  American Samoa  2024             43895          -1.54            199.0   \n",
      "4         Andorra  2024             85370          -0.12            468.0   \n",
      "\n",
      "   Forest Cover Area (km²)  Per Capita GDP (PPP) (USD)  \\\n",
      "0                   1208.0                        2065   \n",
      "1                   7890.0                       15000   \n",
      "2                  19490.0                       13000   \n",
      "3                     17.0                       11200   \n",
      "4                     16.0                       49900   \n",
      "\n",
      "   Per Capita Energy Consumption (kWh)  Per Capita Carbon Emissions (tonnes)  \\\n",
      "0                                  677                                 0.212   \n",
      "1                                14100                                 1.812   \n",
      "2                                15252                                 3.612   \n",
      "3                                29464                                 2.512   \n",
      "4                                49900                                 6.512   \n",
      "\n",
      "   Average GDP (last 5 years) (Billion USD)  ...  Gov_Type_Democracy  \\\n",
      "0                                      20.8  ...               False   \n",
      "1                                      15.3  ...                True   \n",
      "2                                     160.2  ...               False   \n",
      "3                                       0.6  ...               False   \n",
      "4                                       3.2  ...                True   \n",
      "\n",
      "   Gov_Type_Monarchy  Gov_Type_One-Party State  Gov_Type_Other  \\\n",
      "0              False                     False           False   \n",
      "1              False                     False           False   \n",
      "2              False                     False           False   \n",
      "3              False                     False            True   \n",
      "4              False                     False           False   \n",
      "\n",
      "  Gov_Type_Republic Region_East Asia & Pacific Region_Europe & Central Asia  \\\n",
      "0              True                      False                        False   \n",
      "1             False                      False                         True   \n",
      "2              True                      False                        False   \n",
      "3             False                      False                        False   \n",
      "4             False                      False                        False   \n",
      "\n",
      "   Region_Latin America & Caribbean Region_North America  \\\n",
      "0                             False                False   \n",
      "1                             False                False   \n",
      "2                             False                False   \n",
      "3                             False                False   \n",
      "4                             False                False   \n",
      "\n",
      "  Region_Sub-Saharan Africa  \n",
      "0                     False  \n",
      "1                     False  \n",
      "2                     False  \n",
      "3                     False  \n",
      "4                     False  \n",
      "\n",
      "[5 rows x 121 columns]\n"
     ]
    }
   ],
   "source": [
    "# Step 1: Encoding Categorical Variables\n",
    "\n",
    "# Encoding 'Government Type' using One-Hot Encoding\n",
    "government_type_encoded = pd.get_dummies(merged_data_cleaned['Government Type'], prefix='Gov_Type')\n",
    "\n",
    "# Encoding 'Region' using One-Hot Encoding\n",
    "region_encoded = pd.get_dummies(merged_data_cleaned['Region'], prefix='Region')\n",
    "\n",
    "# Concatenate the encoded columns back into the dataset\n",
    "merged_data_encoded = pd.concat([merged_data_cleaned, government_type_encoded, region_encoded], axis=1)\n",
    "\n",
    "# Drop the original categorical columns as they are now encoded\n",
    "merged_data_encoded.drop(['Government Type', 'Region'], axis=1, inplace=True)\n",
    "\n",
    "# Display the newly encoded dataframe\n",
    "print(merged_data_encoded.head())"
   ]
  },
  {
   "cell_type": "code",
   "execution_count": 10,
   "id": "6e046385",
   "metadata": {},
   "outputs": [
    {
     "name": "stdout",
     "output_type": "stream",
     "text": [
      "          Country  Year  Total Population  Growth Rate %  Land Area (km²)  \\\n",
      "0     Afghanistan  2024          40121552           2.22         652867.0   \n",
      "1         Albania  2024           3107100           0.16          28748.0   \n",
      "2         Algeria  2024          47022473           1.54        2381741.0   \n",
      "3  American Samoa  2024             43895          -1.54            199.0   \n",
      "4         Andorra  2024             85370          -0.12            468.0   \n",
      "\n",
      "   Forest Cover Area (km²)  Per Capita GDP (PPP) (USD)  \\\n",
      "0                   1208.0                        2065   \n",
      "1                   7890.0                       15000   \n",
      "2                  19490.0                       13000   \n",
      "3                     17.0                       11200   \n",
      "4                     16.0                       49900   \n",
      "\n",
      "   Per Capita Energy Consumption (kWh)  Per Capita Carbon Emissions (tonnes)  \\\n",
      "0                                  677                                 0.212   \n",
      "1                                14100                                 1.812   \n",
      "2                                15252                                 3.612   \n",
      "3                                29464                                 2.512   \n",
      "4                                49900                                 6.512   \n",
      "\n",
      "   Average GDP (last 5 years) (Billion USD)  ...  Gov_Type_One-Party State  \\\n",
      "0                                      20.8  ...                     False   \n",
      "1                                      15.3  ...                     False   \n",
      "2                                     160.2  ...                     False   \n",
      "3                                       0.6  ...                     False   \n",
      "4                                       3.2  ...                     False   \n",
      "\n",
      "   Gov_Type_Other  Gov_Type_Republic  Region_East Asia & Pacific  \\\n",
      "0           False               True                       False   \n",
      "1           False              False                       False   \n",
      "2           False               True                       False   \n",
      "3            True              False                       False   \n",
      "4           False              False                       False   \n",
      "\n",
      "  Region_Europe & Central Asia Region_Latin America & Caribbean  \\\n",
      "0                        False                            False   \n",
      "1                         True                            False   \n",
      "2                        False                            False   \n",
      "3                        False                            False   \n",
      "4                        False                            False   \n",
      "\n",
      "  Region_North America  Region_Sub-Saharan Africa Energy_GDP_Interaction  \\\n",
      "0                False                      False                1398005   \n",
      "1                False                      False              211500000   \n",
      "2                False                      False              198276000   \n",
      "3                False                      False              329996800   \n",
      "4                False                      False             2490010000   \n",
      "\n",
      "  Emissions_Pop_Interaction  \n",
      "0              8.505769e+06  \n",
      "1              5.630065e+06  \n",
      "2              1.698452e+08  \n",
      "3              1.102642e+05  \n",
      "4              5.559294e+05  \n",
      "\n",
      "[5 rows x 123 columns]\n"
     ]
    }
   ],
   "source": [
    "# Step 2: Creating Interaction Features\n",
    "\n",
    "# Interaction between Per Capita Energy Consumption and Per Capita GDP (PPP)\n",
    "merged_data_encoded['Energy_GDP_Interaction'] = merged_data_encoded['Per Capita Energy Consumption (kWh)'] * merged_data_encoded['Per Capita GDP (PPP) (USD)']\n",
    "\n",
    "# Interaction between Per Capita Carbon Emissions and Total Population\n",
    "merged_data_encoded['Emissions_Pop_Interaction'] = merged_data_encoded['Per Capita Carbon Emissions (tonnes)'] * merged_data_encoded['Total Population']\n",
    "\n",
    "# Display the updated dataframe\n",
    "print(merged_data_encoded.head())"
   ]
  },
  {
   "cell_type": "markdown",
   "id": "3cdd8209",
   "metadata": {},
   "source": [
    "### Importing Required Libraries\n",
    "This section imports the necessary libraries for data manipulation, visualization, and modeling."
   ]
  },
  {
   "cell_type": "markdown",
   "id": "35a03a58",
   "metadata": {},
   "source": [
    "### Importing Required Libraries\n",
    "This section imports all the essential libraries required for data analysis, visualization, and machine learning. These libraries help with data processing, feature analysis, and model building. Pandas and NumPy are used for data manipulation, Seaborn and Matplotlib for data visualization, and Scikit-learn and XGBoost for building and evaluating machine learning models."
   ]
  },
  {
   "cell_type": "code",
   "execution_count": 11,
   "id": "ba40038d",
   "metadata": {},
   "outputs": [
    {
     "name": "stdout",
     "output_type": "stream",
     "text": [
      "   Total Population  Per Capita GDP (PPP) (USD)  \\\n",
      "0         -0.320200                   -4.327796   \n",
      "1         -0.412849                   -3.121332   \n",
      "2         -0.302927                   -3.307875   \n",
      "3         -0.420516                   -3.475763   \n",
      "4         -0.420412                    0.133835   \n",
      "\n",
      "   Per Capita Energy Consumption (kWh)  Per Capita Carbon Emissions (tonnes)  \\\n",
      "0                            -3.929534                             -4.994319   \n",
      "1                            -3.358494                             -4.422102   \n",
      "2                            -3.309486                             -3.778359   \n",
      "3                            -2.704881                             -4.171758   \n",
      "4                            -1.835495                             -2.741216   \n",
      "\n",
      "   Energy_GDP_Interaction  Emissions_Pop_Interaction  \n",
      "0               -3.090371                  -0.521117  \n",
      "1               -2.953368                  -0.522116  \n",
      "2               -2.961991                  -0.465067  \n",
      "3               -2.876099                  -0.524033  \n",
      "4               -1.467601                  -0.523878  \n"
     ]
    }
   ],
   "source": [
    "from sklearn.preprocessing import StandardScaler\n",
    "\n",
    "# Step 3: Scaling Features\n",
    "\n",
    "# Selecting features to scale (excluding target variable)\n",
    "features_to_scale = ['Total Population', 'Per Capita GDP (PPP) (USD)', 'Per Capita Energy Consumption (kWh)',\n",
    "                     'Per Capita Carbon Emissions (tonnes)', 'Energy_GDP_Interaction', 'Emissions_Pop_Interaction']\n",
    "\n",
    "# Applying StandardScaler to scale the features\n",
    "scaler = StandardScaler()\n",
    "merged_data_encoded[features_to_scale] = scaler.fit_transform(merged_data_encoded[features_to_scale])\n",
    "\n",
    "# Display scaled data\n",
    "print(merged_data_encoded[features_to_scale].head())"
   ]
  },
  {
   "cell_type": "code",
   "execution_count": 12,
   "id": "a8c9b1fd",
   "metadata": {},
   "outputs": [
    {
     "name": "stdout",
     "output_type": "stream",
     "text": [
      "   Per Capita Carbon Emissions (tonnes)  Log_Per_Capita_Emissions\n",
      "0                                 0.212                  0.192272\n",
      "1                                 1.812                  1.033896\n",
      "2                                 3.612                  1.528662\n",
      "3                                 2.512                  1.256186\n",
      "4                                 6.512                  2.016502\n"
     ]
    },
    {
     "name": "stderr",
     "output_type": "stream",
     "text": [
      "C:\\Users\\jigar\\AppData\\Local\\Temp\\ipykernel_11556\\3949535842.py:4: SettingWithCopyWarning: \n",
      "A value is trying to be set on a copy of a slice from a DataFrame.\n",
      "Try using .loc[row_indexer,col_indexer] = value instead\n",
      "\n",
      "See the caveats in the documentation: https://pandas.pydata.org/pandas-docs/stable/user_guide/indexing.html#returning-a-view-versus-a-copy\n",
      "  merged_data_cleaned['Log_Per_Capita_Emissions'] = np.log1p(merged_data_cleaned['Per Capita Carbon Emissions (tonnes)'])\n"
     ]
    }
   ],
   "source": [
    "# Step 4: Apply Log Transformation to Key Features (Log of Per Capita Carbon Emissions)\n",
    "\n",
    "# Ensure there are no negative or zero values before applying the log\n",
    "merged_data_cleaned['Log_Per_Capita_Emissions'] = np.log1p(merged_data_cleaned['Per Capita Carbon Emissions (tonnes)'])\n",
    "\n",
    "# Check the result\n",
    "print(merged_data_cleaned[['Per Capita Carbon Emissions (tonnes)', 'Log_Per_Capita_Emissions']].head())"
   ]
  },
  {
   "cell_type": "code",
   "execution_count": 13,
   "id": "810b1529",
   "metadata": {},
   "outputs": [
    {
     "name": "stdout",
     "output_type": "stream",
     "text": [
      "   Energy_GDP_Interaction  Emissions_Pop_Interaction\n",
      "0                 1398005               8.505769e+06\n",
      "1               211500000               5.630065e+06\n",
      "2               198276000               1.698452e+08\n",
      "3               329996800               1.102642e+05\n",
      "4              2490010000               5.559294e+05\n"
     ]
    }
   ],
   "source": [
    "# Creating the interaction features if they don't exist\n",
    "if 'Energy_GDP_Interaction' not in merged_data_cleaned.columns:\n",
    "    merged_data_cleaned['Energy_GDP_Interaction'] = merged_data_cleaned['Per Capita Energy Consumption (kWh)'] * merged_data_cleaned['Per Capita GDP (PPP) (USD)']\n",
    "\n",
    "if 'Emissions_Pop_Interaction' not in merged_data_cleaned.columns:\n",
    "    merged_data_cleaned['Emissions_Pop_Interaction'] = merged_data_cleaned['Per Capita Carbon Emissions (tonnes)'] * merged_data_cleaned['Total Population']\n",
    "\n",
    "# Check if the columns are created\n",
    "print(merged_data_cleaned[['Energy_GDP_Interaction', 'Emissions_Pop_Interaction']].head())"
   ]
  },
  {
   "cell_type": "markdown",
   "id": "8c003efe",
   "metadata": {},
   "source": [
    "### Importing Required Libraries\n",
    "This section imports the necessary libraries for data manipulation, visualization, and modeling."
   ]
  },
  {
   "cell_type": "markdown",
   "id": "5537c713",
   "metadata": {},
   "source": [
    "### Importing Required Libraries\n",
    "This section imports all the essential libraries required for data analysis, visualization, and machine learning. These libraries help with data processing, feature analysis, and model building. Pandas and NumPy are used for data manipulation, Seaborn and Matplotlib for data visualization, and Scikit-learn and XGBoost for building and evaluating machine learning models."
   ]
  },
  {
   "cell_type": "code",
   "execution_count": 16,
   "id": "f1129c5c",
   "metadata": {},
   "outputs": [
    {
     "name": "stdout",
     "output_type": "stream",
     "text": [
      "   Per Capita GDP (PPP) (USD)  Per Capita Energy Consumption (kWh)  \\\n",
      "0                   -4.327796                            -3.929534   \n",
      "1                   -3.121332                            -3.358494   \n",
      "2                   -3.307875                            -3.309486   \n",
      "3                   -3.475763                            -2.704881   \n",
      "4                    0.133835                            -1.835495   \n",
      "\n",
      "   Energy_GDP_Interaction  \n",
      "0               -3.090371  \n",
      "1               -2.953368  \n",
      "2               -2.961991  \n",
      "3               -2.876099  \n",
      "4               -1.467601  \n"
     ]
    }
   ],
   "source": [
    "from sklearn.preprocessing import StandardScaler\n",
    "import joblib  # Add this line to import joblib\n",
    "import pandas as pd  # Assuming you are using pandas for data handling\n",
    "\n",
    "# Step 5: Scaling the Data\n",
    "\n",
    "# Selecting features for scaling\n",
    "features_to_scale = ['Per Capita GDP (PPP) (USD)', 'Per Capita Energy Consumption (kWh)', 'Energy_GDP_Interaction']\n",
    "\n",
    "# Initializing the scaler\n",
    "scaler = StandardScaler()\n",
    "\n",
    "# Scaling the selected features\n",
    "scaled_features = scaler.fit_transform(merged_data_cleaned[features_to_scale])\n",
    "\n",
    "# Save the scaler for later use in the Streamlit app\n",
    "joblib.dump(scaler, 'scaler.pkl')  # This will save the fitted scaler to a .pkl file\n",
    "\n",
    "# Converting back to DataFrame to replace the original columns\n",
    "scaled_df = pd.DataFrame(scaled_features, columns=features_to_scale)\n",
    "\n",
    "# Merging the scaled data back into the original DataFrame\n",
    "merged_data_cleaned[features_to_scale] = scaled_df\n",
    "\n",
    "# Checking the scaled data\n",
    "print(merged_data_cleaned[features_to_scale].head())"
   ]
  },
  {
   "cell_type": "code",
   "execution_count": null,
   "id": "6e230cd2",
   "metadata": {},
   "outputs": [],
   "source": [
    "# One-hot encoding categorical columns (e.g., 'Government Type', 'Region', etc.)\n",
    "X = pd.get_dummies(merged_data_cleaned.drop(columns=['Country', 'Per Capita Carbon Emissions (tonnes)', 'Log_Per_Capita_Emissions']), drop_first=True)\n",
    "\n",
    "# Checking the updated DataFrame\n",
    "print(X.dtypes)  # Ensure all columns are numeric"
   ]
  },
  {
   "cell_type": "markdown",
   "id": "2a590c2e",
   "metadata": {},
   "source": [
    "### Importing Required Libraries\n",
    "This section imports the necessary libraries for data manipulation, visualization, and modeling."
   ]
  },
  {
   "cell_type": "markdown",
   "id": "1c9782e2",
   "metadata": {},
   "source": [
    "### Importing Required Libraries\n",
    "This section imports all the essential libraries required for data analysis, visualization, and machine learning. These libraries help with data processing, feature analysis, and model building. Pandas and NumPy are used for data manipulation, Seaborn and Matplotlib for data visualization, and Scikit-learn and XGBoost for building and evaluating machine learning models."
   ]
  },
  {
   "cell_type": "code",
   "execution_count": null,
   "id": "e82dbbc9",
   "metadata": {},
   "outputs": [],
   "source": [
    "from sklearn.impute import SimpleImputer\n",
    "from sklearn.ensemble import RandomForestRegressor\n",
    "import numpy as np\n",
    "\n",
    "# One-hot encoding categorical columns\n",
    "X = pd.get_dummies(merged_data_cleaned.drop(columns=['Country', 'Per Capita Carbon Emissions (tonnes)', 'Log_Per_Capita_Emissions']), drop_first=True)\n",
    "\n",
    "# Impute missing values in X using the mean for numerical columns\n",
    "imputer = SimpleImputer(strategy='mean')\n",
    "X_imputed = imputer.fit_transform(X)\n",
    "\n",
    "# Defining the target variable\n",
    "y = merged_data_cleaned['Log_Per_Capita_Emissions']\n",
    "\n",
    "# Applying a RandomForestRegressor to assess feature importance\n",
    "rf = RandomForestRegressor()\n",
    "rf.fit(X_imputed, y)\n",
    "\n",
    "# Extracting feature importance\n",
    "feature_importances = pd.DataFrame({\n",
    "    'Feature': X.columns,\n",
    "    'Importance': rf.feature_importances_\n",
    "}).sort_values(by='Importance', ascending=False)\n",
    "\n",
    "# Display the top 10 most important features\n",
    "print(feature_importances.head(10))"
   ]
  },
  {
   "cell_type": "markdown",
   "id": "717f79f2",
   "metadata": {},
   "source": [
    "# Feature Selection"
   ]
  },
  {
   "cell_type": "markdown",
   "id": "708571ba",
   "metadata": {},
   "source": [
    "### Importing Required Libraries\n",
    "This section imports the necessary libraries for data manipulation, visualization, and modeling."
   ]
  },
  {
   "cell_type": "markdown",
   "id": "4f148243",
   "metadata": {},
   "source": [
    "### Importing Required Libraries\n",
    "This section imports all the essential libraries required for data analysis, visualization, and machine learning. These libraries help with data processing, feature analysis, and model building. Pandas and NumPy are used for data manipulation, Seaborn and Matplotlib for data visualization, and Scikit-learn and XGBoost for building and evaluating machine learning models."
   ]
  },
  {
   "cell_type": "code",
   "execution_count": null,
   "id": "c8989ef8",
   "metadata": {},
   "outputs": [],
   "source": [
    "# Select the top features based on importance\n",
    "top_features = ['Per Capita Energy Consumption (kWh)', 'Energy_GDP_Interaction', 'Per Capita GDP (PPP) (USD)']\n",
    "\n",
    "# Create a new dataset with only the top features\n",
    "X_top = merged_data_cleaned[top_features]\n",
    "\n",
    "# Checking the new dataset\n",
    "print(X_top.head())"
   ]
  },
  {
   "cell_type": "markdown",
   "id": "33c4ef8b",
   "metadata": {},
   "source": [
    "### Importing Required Libraries\n",
    "This section imports the necessary libraries for data manipulation, visualization, and modeling."
   ]
  },
  {
   "cell_type": "markdown",
   "id": "4624c0f8",
   "metadata": {},
   "source": [
    "### Importing Required Libraries\n",
    "This section imports all the essential libraries required for data analysis, visualization, and machine learning. These libraries help with data processing, feature analysis, and model building. Pandas and NumPy are used for data manipulation, Seaborn and Matplotlib for data visualization, and Scikit-learn and XGBoost for building and evaluating machine learning models."
   ]
  },
  {
   "cell_type": "code",
   "execution_count": null,
   "id": "b4c29d0c",
   "metadata": {},
   "outputs": [],
   "source": [
    "from sklearn.model_selection import train_test_split\n",
    "\n",
    "# Splitting the data into training and testing sets\n",
    "X_train, X_test, y_train, y_test = train_test_split(X_top, merged_data_cleaned['Log_Per_Capita_Emissions'], test_size=0.2, random_state=42)\n",
    "\n",
    "print(\"Training set size: \", X_train.shape)\n",
    "print(\"Testing set size: \", X_test.shape)"
   ]
  },
  {
   "cell_type": "markdown",
   "id": "262d4b31",
   "metadata": {},
   "source": [
    "### Importing Required Libraries\n",
    "This section imports the necessary libraries for data manipulation, visualization, and modeling."
   ]
  },
  {
   "cell_type": "markdown",
   "id": "f16ce4ce",
   "metadata": {},
   "source": [
    "### Importing Required Libraries\n",
    "This section imports all the essential libraries required for data analysis, visualization, and machine learning. These libraries help with data processing, feature analysis, and model building. Pandas and NumPy are used for data manipulation, Seaborn and Matplotlib for data visualization, and Scikit-learn and XGBoost for building and evaluating machine learning models."
   ]
  },
  {
   "cell_type": "code",
   "execution_count": null,
   "id": "e474ca09",
   "metadata": {},
   "outputs": [],
   "source": [
    "from sklearn.model_selection import GridSearchCV\n",
    "from sklearn.ensemble import RandomForestRegressor\n",
    "\n",
    "# Define the parameter grid for hyperparameter tuning\n",
    "param_grid = {\n",
    "    'n_estimators': [100, 200, 300],       # Number of trees in the forest\n",
    "    'max_depth': [10, 20, None],           # Maximum depth of the tree\n",
    "    'min_samples_split': [2, 5, 10],       # Minimum number of samples required to split a node\n",
    "    'min_samples_leaf': [1, 2, 4],         # Minimum number of samples required at each leaf node\n",
    "    'bootstrap': [True, False]             # Whether bootstrap samples are used when building trees\n",
    "}\n",
    "\n",
    "# Initialize RandomForestRegressor\n",
    "rf = RandomForestRegressor()\n",
    "\n",
    "# Initialize GridSearchCV\n",
    "grid_search = GridSearchCV(estimator=rf, param_grid=param_grid, cv=3, n_jobs=-1, verbose=2)\n",
    "\n",
    "# Fit the model to the training data\n",
    "grid_search.fit(X_train, y_train)\n",
    "\n",
    "# Get the best hyperparameters\n",
    "best_params = grid_search.best_params_\n",
    "print(\"Best Hyperparameters: \", best_params)"
   ]
  },
  {
   "cell_type": "markdown",
   "id": "c1a3abee",
   "metadata": {},
   "source": [
    "### Importing Required Libraries\n",
    "This section imports the necessary libraries for data manipulation, visualization, and modeling."
   ]
  },
  {
   "cell_type": "markdown",
   "id": "5374a039",
   "metadata": {},
   "source": [
    "### Importing Required Libraries\n",
    "This section imports all the essential libraries required for data analysis, visualization, and machine learning. These libraries help with data processing, feature analysis, and model building. Pandas and NumPy are used for data manipulation, Seaborn and Matplotlib for data visualization, and Scikit-learn and XGBoost for building and evaluating machine learning models."
   ]
  },
  {
   "cell_type": "code",
   "execution_count": null,
   "id": "1e80b750",
   "metadata": {},
   "outputs": [],
   "source": [
    "from sklearn.metrics import mean_squared_error, r2_score\n",
    "\n",
    "# Predicting on the test set using the best estimator\n",
    "y_pred = grid_search.best_estimator_.predict(X_test)\n",
    "\n",
    "# Calculate and print performance metrics\n",
    "mse = mean_squared_error(y_test, y_pred)\n",
    "r2 = r2_score(y_test, y_pred)\n",
    "\n",
    "print(f\"Mean Squared Error: {mse}\")\n",
    "print(f\"R-squared: {r2}\")"
   ]
  },
  {
   "cell_type": "markdown",
   "id": "207f906f",
   "metadata": {},
   "source": [
    "### Importing Required Libraries\n",
    "This section imports the necessary libraries for data manipulation, visualization, and modeling."
   ]
  },
  {
   "cell_type": "markdown",
   "id": "2837eb74",
   "metadata": {},
   "source": [
    "### Importing Required Libraries\n",
    "This section imports all the essential libraries required for data analysis, visualization, and machine learning. These libraries help with data processing, feature analysis, and model building. Pandas and NumPy are used for data manipulation, Seaborn and Matplotlib for data visualization, and Scikit-learn and XGBoost for building and evaluating machine learning models."
   ]
  },
  {
   "cell_type": "code",
   "execution_count": null,
   "id": "c2747702",
   "metadata": {},
   "outputs": [],
   "source": [
    "import matplotlib.pyplot as plt\n",
    "import seaborn as sns\n",
    "\n",
    "# Calculate residuals\n",
    "residuals = y_test - y_pred\n",
    "\n",
    "# Plot residuals\n",
    "plt.figure(figsize=(10,6))\n",
    "sns.histplot(residuals, kde=True, bins=30)\n",
    "plt.title('Residuals Distribution')\n",
    "plt.xlabel('Residuals')\n",
    "plt.ylabel('Frequency')\n",
    "plt.show()\n",
    "\n",
    "# Plot residuals against predicted values\n",
    "plt.figure(figsize=(10,6))\n",
    "plt.scatter(y_pred, residuals)\n",
    "plt.title('Residuals vs Predicted Values')\n",
    "plt.xlabel('Predicted Values')\n",
    "plt.ylabel('Residuals')\n",
    "plt.axhline(y=0, color='r', linestyle='--')\n",
    "plt.show()"
   ]
  },
  {
   "cell_type": "markdown",
   "id": "a33ba339",
   "metadata": {},
   "source": [
    "### Importing Required Libraries\n",
    "This section imports the necessary libraries for data manipulation, visualization, and modeling."
   ]
  },
  {
   "cell_type": "markdown",
   "id": "78ba5f1a",
   "metadata": {},
   "source": [
    "### Importing Required Libraries\n",
    "This section imports all the essential libraries required for data analysis, visualization, and machine learning. These libraries help with data processing, feature analysis, and model building. Pandas and NumPy are used for data manipulation, Seaborn and Matplotlib for data visualization, and Scikit-learn and XGBoost for building and evaluating machine learning models."
   ]
  },
  {
   "cell_type": "code",
   "execution_count": null,
   "id": "b7a97bf3",
   "metadata": {},
   "outputs": [],
   "source": [
    "from sklearn.model_selection import cross_val_score\n",
    "\n",
    "# Perform cross-validation with the best model\n",
    "cv_scores = cross_val_score(grid_search.best_estimator_, X_top, merged_data_cleaned['Log_Per_Capita_Emissions'], cv=5, scoring='r2')\n",
    "\n",
    "print(f\"Cross-Validation R² Scores: {cv_scores}\")\n",
    "print(f\"Mean CV R² Score: {cv_scores.mean()}\")"
   ]
  },
  {
   "cell_type": "markdown",
   "id": "961f4e1c",
   "metadata": {},
   "source": [
    "### Importing Required Libraries\n",
    "This section imports the necessary libraries for data manipulation, visualization, and modeling."
   ]
  },
  {
   "cell_type": "markdown",
   "id": "7e8129c0",
   "metadata": {},
   "source": [
    "### Importing Required Libraries\n",
    "This section imports all the essential libraries required for data analysis, visualization, and machine learning. These libraries help with data processing, feature analysis, and model building. Pandas and NumPy are used for data manipulation, Seaborn and Matplotlib for data visualization, and Scikit-learn and XGBoost for building and evaluating machine learning models."
   ]
  },
  {
   "cell_type": "code",
   "execution_count": null,
   "id": "9e4a42e4",
   "metadata": {},
   "outputs": [],
   "source": [
    "# Plot feature importance\n",
    "import matplotlib.pyplot as plt\n",
    "\n",
    "importances = grid_search.best_estimator_.feature_importances_\n",
    "indices = np.argsort(importances)[::-1]\n",
    "features = X_top.columns\n",
    "\n",
    "plt.figure(figsize=(10,6))\n",
    "plt.title('Feature Importances')\n",
    "plt.bar(range(X_top.shape[1]), importances[indices], align='center')\n",
    "plt.xticks(range(X_top.shape[1]), features[indices], rotation=90)\n",
    "plt.show()"
   ]
  },
  {
   "cell_type": "code",
   "execution_count": null,
   "id": "4f3b706f",
   "metadata": {},
   "outputs": [],
   "source": [
    "pip install xgboost"
   ]
  },
  {
   "cell_type": "markdown",
   "id": "21823078",
   "metadata": {},
   "source": [
    "### Importing Required Libraries\n",
    "This section imports the necessary libraries for data manipulation, visualization, and modeling."
   ]
  },
  {
   "cell_type": "markdown",
   "id": "d2440055",
   "metadata": {},
   "source": [
    "### Importing Required Libraries\n",
    "This section imports all the essential libraries required for data analysis, visualization, and machine learning. These libraries help with data processing, feature analysis, and model building. Pandas and NumPy are used for data manipulation, Seaborn and Matplotlib for data visualization, and Scikit-learn and XGBoost for building and evaluating machine learning models."
   ]
  },
  {
   "cell_type": "code",
   "execution_count": null,
   "id": "0abd549a",
   "metadata": {},
   "outputs": [],
   "source": [
    "from xgboost import XGBRegressor\n",
    "\n",
    "# Initialize XGBoost Regressor\n",
    "xgb = XGBRegressor()\n",
    "\n",
    "# Train the model on the training data\n",
    "xgb.fit(X_train, y_train)\n",
    "\n",
    "# Predict on the test set\n",
    "y_pred_xgb = xgb.predict(X_test)\n",
    "\n",
    "# Calculate metrics\n",
    "mse_xgb = mean_squared_error(y_test, y_pred_xgb)\n",
    "r2_xgb = r2_score(y_test, y_pred_xgb)\n",
    "\n",
    "print(f\"XGBoost Mean Squared Error: {mse_xgb}\")\n",
    "print(f\"XGBoost R-squared: {r2_xgb}\")\n"
   ]
  },
  {
   "cell_type": "markdown",
   "id": "58c6ebbc",
   "metadata": {},
   "source": [
    "### Data Visualization\n",
    "Plotting data to understand trends and relationships between different features."
   ]
  },
  {
   "cell_type": "markdown",
   "id": "3b929933",
   "metadata": {},
   "source": [
    "### Data Visualization - Initial Analysis\n",
    "This section visualizes various features from the dataset to understand underlying patterns, distributions, and relationships. Visualization is critical to identify trends, correlations, and outliers that could influence the effectiveness of the predictive model."
   ]
  },
  {
   "cell_type": "code",
   "execution_count": null,
   "id": "b35b74d1",
   "metadata": {},
   "outputs": [],
   "source": [
    "# Calculate residuals\n",
    "residuals_xgb = y_test - y_pred_xgb\n",
    "\n",
    "# Plot Residuals Distribution\n",
    "plt.figure(figsize=(10, 6))\n",
    "sns.histplot(residuals_xgb, kde=True, bins=30)\n",
    "plt.title('XGBoost Residuals Distribution')\n",
    "plt.xlabel('Residuals')\n",
    "plt.ylabel('Frequency')\n",
    "plt.show()\n",
    "\n",
    "# Residuals vs. Predicted Values\n",
    "plt.figure(figsize=(10, 6))\n",
    "plt.scatter(y_pred_xgb, residuals_xgb)\n",
    "plt.axhline(y=0, color='r', linestyle='--')\n",
    "plt.title('XGBoost Residuals vs Predicted Values')\n",
    "plt.xlabel('Predicted Values')\n",
    "plt.ylabel('Residuals')\n",
    "plt.show()\n"
   ]
  },
  {
   "cell_type": "code",
   "execution_count": null,
   "id": "5cadbfe3",
   "metadata": {},
   "outputs": [],
   "source": [
    "param_grid = {\n",
    "    'n_estimators': [100, 200, 300],\n",
    "    'learning_rate': [0.01, 0.05, 0.1],\n",
    "    'max_depth': [3, 5, 7],\n",
    "    'subsample': [0.7, 0.8, 1.0],\n",
    "    'colsample_bytree': [0.7, 0.8, 1.0]\n",
    "}\n",
    "\n",
    "# Using GridSearchCV\n",
    "xgb_grid = GridSearchCV(estimator=XGBRegressor(), param_grid=param_grid, cv=3, scoring='r2', verbose=2)\n",
    "xgb_grid.fit(X_train, y_train)\n",
    "\n",
    "print(\"Best Hyperparameters:\", xgb_grid.best_params_)\n"
   ]
  },
  {
   "cell_type": "code",
   "execution_count": null,
   "id": "5b137019",
   "metadata": {},
   "outputs": [],
   "source": [
    "pip install shap"
   ]
  },
  {
   "cell_type": "markdown",
   "id": "3f1767c9",
   "metadata": {},
   "source": [
    "### Importing Required Libraries\n",
    "This section imports the necessary libraries for data manipulation, visualization, and modeling."
   ]
  },
  {
   "cell_type": "markdown",
   "id": "16574985",
   "metadata": {},
   "source": [
    "### Importing Required Libraries\n",
    "This section imports all the essential libraries required for data analysis, visualization, and machine learning. These libraries help with data processing, feature analysis, and model building. Pandas and NumPy are used for data manipulation, Seaborn and Matplotlib for data visualization, and Scikit-learn and XGBoost for building and evaluating machine learning models."
   ]
  },
  {
   "cell_type": "code",
   "execution_count": null,
   "id": "549b86f2",
   "metadata": {},
   "outputs": [],
   "source": [
    "import shap\n",
    "\n",
    "explainer = shap.TreeExplainer(xgb)\n",
    "shap_values = explainer.shap_values(X_test)\n",
    "\n",
    "# Plot summary\n",
    "shap.summary_plot(shap_values, X_test)"
   ]
  },
  {
   "cell_type": "markdown",
   "id": "8b8ac3fd",
   "metadata": {},
   "source": [
    "# Deployment"
   ]
  },
  {
   "cell_type": "markdown",
   "id": "a81fc127",
   "metadata": {},
   "source": [
    "### Importing Required Libraries\n",
    "This section imports the necessary libraries for data manipulation, visualization, and modeling."
   ]
  },
  {
   "cell_type": "markdown",
   "id": "a3f20b8d",
   "metadata": {},
   "source": [
    "### Importing Required Libraries\n",
    "This section imports all the essential libraries required for data analysis, visualization, and machine learning. These libraries help with data processing, feature analysis, and model building. Pandas and NumPy are used for data manipulation, Seaborn and Matplotlib for data visualization, and Scikit-learn and XGBoost for building and evaluating machine learning models."
   ]
  },
  {
   "cell_type": "code",
   "execution_count": null,
   "id": "e81a99d1",
   "metadata": {},
   "outputs": [],
   "source": [
    "import joblib\n",
    "\n",
    "# Save the model to a file\n",
    "joblib.dump(xgb, 'xgb_model.pkl')"
   ]
  },
  {
   "cell_type": "code",
   "execution_count": null,
   "id": "ab5cb44b",
   "metadata": {},
   "outputs": [],
   "source": [
    "# Load the model from file\n",
    "model = joblib.load('xgb_model.pkl')"
   ]
  },
  {
   "cell_type": "markdown",
   "id": "d485964b",
   "metadata": {},
   "source": [
    "### Importing Required Libraries\n",
    "This section imports the necessary libraries for data manipulation, visualization, and modeling."
   ]
  },
  {
   "cell_type": "markdown",
   "id": "32ccacd6",
   "metadata": {},
   "source": [
    "### Importing Required Libraries\n",
    "This section imports all the essential libraries required for data analysis, visualization, and machine learning. These libraries help with data processing, feature analysis, and model building. Pandas and NumPy are used for data manipulation, Seaborn and Matplotlib for data visualization, and Scikit-learn and XGBoost for building and evaluating machine learning models."
   ]
  },
  {
   "cell_type": "code",
   "execution_count": null,
   "id": "205e7c2b",
   "metadata": {},
   "outputs": [],
   "source": [
    "import joblib\n",
    "\n",
    "# Save the model to a file on your Desktop using double backslashes\n",
    "joblib.dump(xgb, 'C:\\\\Users\\\\jigar\\\\Desktop\\\\xgb_model.pkl')"
   ]
  },
  {
   "cell_type": "markdown",
   "id": "e3366e55",
   "metadata": {},
   "source": [
    "### Importing Required Libraries\n",
    "This section imports the necessary libraries for data manipulation, visualization, and modeling."
   ]
  },
  {
   "cell_type": "markdown",
   "id": "0a64b0bd",
   "metadata": {},
   "source": [
    "### Importing Required Libraries\n",
    "This section imports all the essential libraries required for data analysis, visualization, and machine learning. These libraries help with data processing, feature analysis, and model building. Pandas and NumPy are used for data manipulation, Seaborn and Matplotlib for data visualization, and Scikit-learn and XGBoost for building and evaluating machine learning models."
   ]
  },
  {
   "cell_type": "code",
   "execution_count": null,
   "id": "d80a4edf",
   "metadata": {},
   "outputs": [],
   "source": [
    "import numpy as np\n",
    "\n",
    "# Prediction function\n",
    "def predict_carbon_emissions(energy_consumption, gdp_ppp, energy_gdp_interaction):\n",
    "    # Create a data array for the input features\n",
    "    input_data = np.array([[energy_consumption, gdp_ppp, energy_gdp_interaction]])\n",
    "    \n",
    "    # Make a prediction using the model\n",
    "    prediction = model.predict(input_data)\n",
    "    \n",
    "    return prediction"
   ]
  },
  {
   "cell_type": "markdown",
   "id": "c8af4d03",
   "metadata": {},
   "source": [
    "### Importing Required Libraries\n",
    "This section imports the necessary libraries for data manipulation, visualization, and modeling."
   ]
  },
  {
   "cell_type": "markdown",
   "id": "e82aa74a",
   "metadata": {},
   "source": [
    "### Importing Required Libraries\n",
    "This section imports all the essential libraries required for data analysis, visualization, and machine learning. These libraries help with data processing, feature analysis, and model building. Pandas and NumPy are used for data manipulation, Seaborn and Matplotlib for data visualization, and Scikit-learn and XGBoost for building and evaluating machine learning models."
   ]
  },
  {
   "cell_type": "code",
   "execution_count": 1,
   "id": "8c6be783",
   "metadata": {},
   "outputs": [
    {
     "data": {
      "text/html": [
       "\n",
       "<b>Guidance:</b><br>\n",
       "- <b>Per Capita Energy (kWh/year):</b> This is the average energy consumption per person in kilowatt-hours per year. \n",
       "For example, Canada's per capita energy consumption in 2023 was 25,100 kWh. Typical values range between 1,000 kWh (for developing countries) to 50,000 kWh (for developed countries).<br>\n",
       "- <b>Per Capita GDP (PPP USD/year):</b> This is the economic output per person, adjusted for purchasing power parity. \n",
       "For example, Canada's per capita GDP in 2023 was $52,000 USD. Values typically range from 2,000 USD (for low-income countries) to 100,000 USD (for high-income countries).<br>\n",
       "- <b>Energy-GDP Interaction:</b> This represents the combined metric that captures the interaction between energy consumption and economic output. A typical range is from 5,000 to 20,000 for most countries. This factor is important because it shows how a country's energy use is related to its economic development.<br>\n"
      ],
      "text/plain": [
       "<IPython.core.display.HTML object>"
      ]
     },
     "metadata": {},
     "output_type": "display_data"
    },
    {
     "data": {
      "application/vnd.jupyter.widget-view+json": {
       "model_id": "da1235a977164a5b814cd5af35cafcef",
       "version_major": 2,
       "version_minor": 0
      },
      "text/plain": [
       "VBox(children=(FloatText(value=25100.0, description='Per Capita Energy (kWh/year):', layout=Layout(width='500p…"
      ]
     },
     "metadata": {},
     "output_type": "display_data"
    },
    {
     "data": {
      "application/vnd.jupyter.widget-view+json": {
       "model_id": "ffafb74c15284a85b4103ec75c147460",
       "version_major": 2,
       "version_minor": 0
      },
      "text/plain": [
       "Output()"
      ]
     },
     "metadata": {},
     "output_type": "display_data"
    }
   ],
   "source": [
    "import ipywidgets as widgets\n",
    "from IPython.display import display, HTML\n",
    "\n",
    "# Information and guidance\n",
    "guidance_text = \"\"\"\n",
    "<b>Guidance:</b><br>\n",
    "- <b>Per Capita Energy (kWh/year):</b> This is the average energy consumption per person in kilowatt-hours per year. \n",
    "For example, Canada's per capita energy consumption in 2023 was 25,100 kWh. Typical values range between 1,000 kWh (for developing countries) to 50,000 kWh (for developed countries).<br>\n",
    "- <b>Per Capita GDP (PPP USD/year):</b> This is the economic output per person, adjusted for purchasing power parity. \n",
    "For example, Canada's per capita GDP in 2023 was $52,000 USD. Values typically range from 2,000 USD (for low-income countries) to 100,000 USD (for high-income countries).<br>\n",
    "- <b>Energy-GDP Interaction:</b> This represents the combined metric that captures the interaction between energy consumption and economic output. A typical range is from 5,000 to 20,000 for most countries. This factor is important because it shows how a country's energy use is related to its economic development.<br>\n",
    "\"\"\"\n",
    "\n",
    "# Create widgets for inputs with increased width\n",
    "energy_consumption = widgets.FloatText(\n",
    "    description=\"Per Capita Energy (kWh/year):\",\n",
    "    value=25100,\n",
    "    layout=widgets.Layout(width='500px')  # Set wider width\n",
    ")\n",
    "gdp_ppp = widgets.FloatText(\n",
    "    description=\"Per Capita GDP (PPP USD/year):\",\n",
    "    value=52000,\n",
    "    layout=widgets.Layout(width='500px')  # Set wider width\n",
    ")\n",
    "energy_gdp_interaction = widgets.FloatText(\n",
    "    description=\"Energy-GDP Interaction (combined metric):\",\n",
    "    value=15000,\n",
    "    layout=widgets.Layout(width='500px')  # Set wider width\n",
    ")\n",
    "\n",
    "# Button for making the prediction\n",
    "predict_button = widgets.Button(description=\"Predict Carbon Emissions\", button_style='success')\n",
    "\n",
    "# Output for the prediction\n",
    "output = widgets.Output()\n",
    "\n",
    "# Function to interpret impact levels\n",
    "def interpret_impact(prediction):\n",
    "    if prediction < 5:\n",
    "        return \"\"\"\n",
    "        <span style='color:green; font-size:18px;'>Safe</span>: Emission levels are within sustainable limits.<br>\n",
    "        <b>Impact:</b> Minor sea level rise (1-3 mm/year). Minimal biodiversity loss.<br>\n",
    "        <b>Life Expectancy:</b> No significant impact. <br>\n",
    "        <b>Economic Impact:</b> Low, with industries largely unaffected. <br>\n",
    "        <b>Citation:</b> NOAA (2025), IPCC (2025).\n",
    "        \"\"\"\n",
    "    elif 5 <= prediction < 10:\n",
    "        return \"\"\"\n",
    "        <span style='color:orange; font-size:18px;'>Moderate</span>: Emissions may cause noticeable environmental impact.<br>\n",
    "        <b>Impact:</b> Sea levels rise by 0.2 meters by 2100, leading to moderate flooding in New York, Miami, and other coastal cities.<br>\n",
    "        Gradual melting of Arctic ice by 2050. Heatwaves and flooding risks increase.\n",
    "        <b>Life Expectancy:</b> Estimated decrease by 2-3 years in developed countries by 2050.<br>\n",
    "        <b>Economic Impact:</b> Global GDP shrinks by 5-10% by 2050, affecting industries like tourism and agriculture.<br>\n",
    "        <b>Biodiversity Loss:</b> Extinction rates could increase by 15-20% by 2050 due to habitat destruction.<br>\n",
    "        <b>Citation:</b> IPCC (2025), World Bank (2025).\n",
    "        \"\"\"\n",
    "    else:\n",
    "        return \"\"\"\n",
    "        <span style='color:red; font-size:18px;'>Unsafe</span>: Emissions are too high, leading to severe environmental and health consequences.<br>\n",
    "        <b>Impact:</b> Sea levels rise by 0.5 meters or more by 2100, causing severe submergence in cities like Dhaka, Shanghai, and New Orleans.<br>\n",
    "        <b>Life Expectancy:</b> Estimated decrease by 5-7 years by 2050 in developed countries.<br>\n",
    "        <b>Economic Impact:</b> Global GDP shrinks by 10-15% by 2050, with severe effects on agriculture and the insurance industry.<br>\n",
    "        <b>Biodiversity Loss:</b> Extinction rates rise by 25-30%, with ecosystems like the Amazon and Arctic at extreme risk by 2050.<br>\n",
    "        <b>Citation:</b> IPCC (2025), United Nations Climate Report (2025).\n",
    "        \"\"\"\n",
    "\n",
    "# Function to predict carbon emissions (mocked prediction logic)\n",
    "def predict_carbon_emissions(energy, gdp, interaction):\n",
    "    return (energy * 0.0001 + gdp * 0.00005 + interaction * 0.00002)\n",
    "\n",
    "# Event handler for the button\n",
    "def on_button_click(b):\n",
    "    # Get the input values\n",
    "    energy = energy_consumption.value\n",
    "    gdp = gdp_ppp.value\n",
    "    interaction = energy_gdp_interaction.value\n",
    "    \n",
    "    # Make a prediction\n",
    "    prediction = predict_carbon_emissions(energy, gdp, interaction)\n",
    "    \n",
    "    # Display the result\n",
    "    with output:\n",
    "        output.clear_output()\n",
    "        impact_text = interpret_impact(prediction)\n",
    "        display(HTML(f\"<b>Predicted Per Capita Carbon Emissions:</b> {prediction:.2f} tons/year<br>{impact_text}\"))\n",
    "\n",
    "# Attach the event to the button\n",
    "predict_button.on_click(on_button_click)\n",
    "\n",
    "# Layout structure for a more organized view\n",
    "input_box = widgets.VBox([\n",
    "    energy_consumption, gdp_ppp, energy_gdp_interaction,\n",
    "    predict_button\n",
    "])\n",
    "\n",
    "# Display the guidance, widgets, and output\n",
    "display(HTML(guidance_text))\n",
    "display(input_box, output)"
   ]
  }
 ],
 "metadata": {
  "kernelspec": {
   "display_name": "Python 3",
   "language": "python",
   "name": "python3"
  },
  "language_info": {
   "codemirror_mode": {
    "name": "ipython",
    "version": 3
   },
   "file_extension": ".py",
   "mimetype": "text/x-python",
   "name": "python",
   "nbconvert_exporter": "python",
   "pygments_lexer": "ipython3",
   "version": "3.11.7"
  }
 },
 "nbformat": 4,
 "nbformat_minor": 5
}
