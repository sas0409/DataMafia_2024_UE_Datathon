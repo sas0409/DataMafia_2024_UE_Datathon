{
 "cells": [
  {
   "cell_type": "markdown",
   "id": "c8dfed4e",
   "metadata": {},
   "source": [
    "### Importing Libraries and Loading Datasets\n",
    "In this section, we import the Pandas library and load multiple datasets required for building the ML model. These include:\n",
    "- **CO2 Emissions Data**: Data on per capita carbon emissions for each country.\n",
    "- **Countries Data**: Country-related details, potentially including socio-economic and geographic information.\n",
    "- **IEA Cleaned Data**: Energy consumption data from IEA (International Energy Agency).\n",
    "- **Compliance Emissions and Revenue Data**: Data on emissions compliance and related revenue.\n",
    "\n",
    "Loading these datasets is a crucial first step as they form the basis for further data merging, transformation, and feature engineering required for the ML model. Each dataset brings important information that will help in predicting carbon emissions more accurately."
   ]
  },
  {
   "cell_type": "code",
   "execution_count": 2,
   "id": "b657d919",
   "metadata": {},
   "outputs": [],
   "source": [
    "import pandas as pd\n",
    "\n",
    "# Load the datasets (replace with your file paths)\n",
    "co2_data = pd.read_excel('CO2 Per Capita Data.xlsx', sheet_name='Sheet1')\n",
    "countries_data = pd.read_csv('Countries.csv', encoding='ISO-8859-1')\n",
    "iea_cleaned_data = pd.read_csv('IEA_cleaned.csv', encoding='ISO-8859-1')\n",
    "compliance_emissions_data = pd.read_csv('compliance_emissions.csv', encoding='ISO-8859-1')\n",
    "compliance_revenue_data = pd.read_csv('compliance_revenue.csv', encoding='ISO-8859-1')"
   ]
  },
  {
   "cell_type": "markdown",
   "id": "2ce85661",
   "metadata": {},
   "source": [
    "### Merging Datasets\n",
    "In this part, we sequentially merge multiple datasets to create a comprehensive table that contains all the relevant information:\n",
    "\n",
    "1. **Step 1**: Merging CO2 Data with Countries Data - We merge the CO2 emissions data with the countries data to bring in socio-economic and geographic information about each country. This enriches the CO2 dataset with more contextual information that might be critical for understanding variations in emissions.\n",
    "\n",
    "2. **Step 2**: Merging with IEA Cleaned Data - Adding energy consumption data from IEA allows us to correlate energy usage with CO2 emissions, giving insight into the relationship between energy policies and carbon footprint.\n",
    "\n",
    "3. **Step 3**: Merging Compliance Emissions Data - Incorporating compliance-related emissions data provides an understanding of how regulations affect emissions, adding an important dimension to our dataset for model training.\n",
    "\n",
    "4. **Step 4**: Merging Compliance Revenue Data - Compliance revenue data can help us understand the economic impact of emissions regulations. This feature might be useful to capture the economic incentive or cost related to emissions control.\n",
    "\n",
    "5. **Step 5**: Review of Merged Data - After merging, we review the data to ensure it is complete and correctly structured, which is crucial for a successful machine learning workflow.\n",
    "\n",
    "6. **Step 6**: Saving the Final Merged Dataset - Finally, we save the merged dataset as a CSV file to use in the ML model. This flat file is now enriched with all the essential features needed for predicting per capita carbon emissions. Proper merging ensures data consistency, integrity, and completeness, which are critical for an effective model."
   ]
  },
  {
   "cell_type": "code",
   "execution_count": 3,
   "id": "8115598a",
   "metadata": {},
   "outputs": [
    {
     "name": "stdout",
     "output_type": "stream",
     "text": [
      "          Country  Year  Total Population  Growth Rate %  Land Area (km²)  \\\n",
      "0     Afghanistan  2024          40121552           2.22         652867.0   \n",
      "1         Albania  2024           3107100           0.16          28748.0   \n",
      "2         Algeria  2024          47022473           1.54        2381741.0   \n",
      "3  American Samoa  2024             43895          -1.54            199.0   \n",
      "4         Andorra  2024             85370          -0.12            468.0   \n",
      "\n",
      "   Forest Cover Area (km²)  Per Capita GDP (PPP) (USD)  \\\n",
      "0                   1208.0                        2065   \n",
      "1                   7890.0                       15000   \n",
      "2                  19490.0                       13000   \n",
      "3                     17.0                       11200   \n",
      "4                     16.0                       49900   \n",
      "\n",
      "   Per Capita Energy Consumption (kWh)  Per Capita Carbon Emissions (tonnes)  \\\n",
      "0                                  677                                 0.212   \n",
      "1                                14100                                 1.812   \n",
      "2                                15252                                 3.612   \n",
      "3                                29464                                 2.512   \n",
      "4                                49900                                 6.512   \n",
      "\n",
      "  Government Type  ...  2014_y  2015_y         2016_y         2017_y  \\\n",
      "0        Republic  ...     NaN     NaN            NaN            NaN   \n",
      "1       Democracy  ...     0.0     0.0  Not available  Not available   \n",
      "2        Republic  ...     NaN     NaN            NaN            NaN   \n",
      "3           Other  ...     NaN     NaN            NaN            NaN   \n",
      "4       Democracy  ...     NaN     NaN            NaN            NaN   \n",
      "\n",
      "          2018_y         2019_y         2020_y         2021_y         2022_y  \\\n",
      "0            NaN            NaN            NaN            NaN            NaN   \n",
      "1  Not available  Not available  Not available  Not available  Not available   \n",
      "2            NaN            NaN            NaN            NaN            NaN   \n",
      "3            NaN            NaN            NaN            NaN            NaN   \n",
      "4            NaN            NaN            NaN            NaN            NaN   \n",
      "\n",
      "          2023_y  \n",
      "0            NaN  \n",
      "1  Not available  \n",
      "2            NaN  \n",
      "3            NaN  \n",
      "4            NaN  \n",
      "\n",
      "[5 rows x 115 columns]\n"
     ]
    }
   ],
   "source": [
    "# Step 1: Merge CO2 data with Countries Data on 'Country' (CO2) and 'name' (Countries)\n",
    "merged_data = co2_data.merge(countries_data, left_on='Country', right_on='name', how='left')\n",
    "\n",
    "# Step 2: Merge with IEA Cleaned data\n",
    "merged_data = merged_data.merge(iea_cleaned_data, on='Country', how='left')\n",
    "\n",
    "# Step 3: Merge with Compliance Emissions data\n",
    "merged_data = merged_data.merge(compliance_emissions_data, on='Country', how='left')\n",
    "\n",
    "# Step 4: Merge with Compliance Revenue data\n",
    "merged_data = merged_data.merge(compliance_revenue_data, on='Country', how='left')\n",
    "\n",
    "# Step 5: Review the merged data to ensure there are no missing columns and that the data is in the right structure\n",
    "print(merged_data.head())\n",
    "\n",
    "# Step 6: Save the final merged data as a flat file (CSV) for ML use\n",
    "merged_data.to_csv('final_merged_flat_table.csv', index=False)"
   ]
  },
  {
   "cell_type": "code",
   "execution_count": null,
   "id": "ea416f50",
   "metadata": {},
   "outputs": [],
   "source": []
  }
 ],
 "metadata": {
  "kernelspec": {
   "display_name": "Python 3",
   "language": "python",
   "name": "python3"
  },
  "language_info": {
   "codemirror_mode": {
    "name": "ipython",
    "version": 3
   },
   "file_extension": ".py",
   "mimetype": "text/x-python",
   "name": "python",
   "nbconvert_exporter": "python",
   "pygments_lexer": "ipython3",
   "version": "3.11.7"
  }
 },
 "nbformat": 4,
 "nbformat_minor": 5
}
