{
 "cells": [
  {
   "cell_type": "markdown",
   "id": "903d1d74",
   "metadata": {},
   "source": [
    "# Carbon emissions predictive model"
   ]
  },
  {
   "cell_type": "markdown",
   "id": "5655558d",
   "metadata": {},
   "source": [
    "#### Overview:\n",
    "We begin by importing the necessary libraries and loading the pre-trained machine learning model. The model is stored in a file and needs to be brought into our code to make predictions.\n",
    "\n",
    "#### Key Points:\n",
    "- **Library Imported**: `joblib` — used for loading pre-trained models.\n",
    "- **Why this step is necessary**: Without loading the model, we cannot perform any predictions.\n",
    "- **Model loaded from**: `xgb_model.pkl`.\n",
    "\n",
    "#### Purpose:\n",
    "This step ensures that we are ready to use the machine learning model, which has already been trained with historical data, saving us from retraining it."
   ]
  },
  {
   "cell_type": "code",
   "execution_count": 3,
   "id": "474d9b57",
   "metadata": {},
   "outputs": [],
   "source": [
    "import joblib"
   ]
  },
  {
   "cell_type": "code",
   "execution_count": 4,
   "id": "8dd4f9f4",
   "metadata": {},
   "outputs": [],
   "source": [
    "# Load the model from file\n",
    "model = joblib.load('xgb_model.pkl')"
   ]
  },
  {
   "cell_type": "markdown",
   "id": "2f23a925",
   "metadata": {},
   "source": [
    "#### Overview:\n",
    "This function takes user inputs (such as energy consumption and GDP) and uses the pre-trained model to predict carbon emissions.\n",
    "\n",
    "#### Key Points:\n",
    "- **Input parameters**:\n",
    "  - **Energy consumption** (kWh/year)\n",
    "  - **GDP (PPP)** (USD/year)\n",
    "  - **Energy-GDP interaction** (combined metric of energy use and economic output)\n",
    "- **Output**: Predicted carbon emissions in tons per year.\n",
    "- **Why this step is necessary**: A function encapsulates the prediction process, making it reusable and ensuring the model can be easily integrated into other parts of the program.\n",
    "\n",
    "#### Benefits:\n",
    "- Simplifies how predictions are made by collecting all logic in one place.\n",
    "- Ensures scalability and maintainability for future enhancements."
   ]
  },
  {
   "cell_type": "code",
   "execution_count": 5,
   "id": "383746ae",
   "metadata": {},
   "outputs": [],
   "source": [
    "import numpy as np\n",
    "\n",
    "# Prediction function\n",
    "def predict_carbon_emissions(energy_consumption, gdp_ppp, energy_gdp_interaction):\n",
    "    # Create a data array for the input features\n",
    "    input_data = np.array([[energy_consumption, gdp_ppp, energy_gdp_interaction]])\n",
    "    \n",
    "    # Make a prediction using the model\n",
    "    prediction = model.predict(input_data)\n",
    "    \n",
    "    return prediction"
   ]
  },
  {
   "cell_type": "code",
   "execution_count": 6,
   "id": "3f5d8227",
   "metadata": {},
   "outputs": [
    {
     "data": {
      "text/html": [
       "\n",
       "<b>Guidance:</b><br>\n",
       "- <b>Per Capita Energy (kWh/year):</b> This is the average energy consumption per person in kilowatt-hours per year. \n",
       "For example, Canada's per capita energy consumption in 2023 was 25,100 kWh. Typical values range between 1,000 kWh (for developing countries) to 50,000 kWh (for developed countries).<br>\n",
       "- <b>Per Capita GDP (PPP USD/year):</b> This is the economic output per person, adjusted for purchasing power parity. \n",
       "For example, Canada's per capita GDP in 2023 was $52,000 USD. Values typically range from 2,000 USD (for low-income countries) to 100,000 USD (for high-income countries).<br>\n",
       "- <b>Energy-GDP Interaction:</b> This represents the combined metric that captures the interaction between energy consumption and economic output. A typical range is from 5,000 to 20,000 for most countries. This factor is important because it shows how a country's energy use is related to its economic development.<br>\n"
      ],
      "text/plain": [
       "<IPython.core.display.HTML object>"
      ]
     },
     "metadata": {},
     "output_type": "display_data"
    },
    {
     "data": {
      "application/vnd.jupyter.widget-view+json": {
       "model_id": "d06c1a19ae054b11ad22b45fcd5b34dc",
       "version_major": 2,
       "version_minor": 0
      },
      "text/plain": [
       "VBox(children=(FloatText(value=25100.0, description='Per Capita Energy (kWh/year):', layout=Layout(width='500p…"
      ]
     },
     "metadata": {},
     "output_type": "display_data"
    },
    {
     "data": {
      "application/vnd.jupyter.widget-view+json": {
       "model_id": "48bbd14ae1054d32866967ca23ebb60d",
       "version_major": 2,
       "version_minor": 0
      },
      "text/plain": [
       "Output()"
      ]
     },
     "metadata": {},
     "output_type": "display_data"
    }
   ],
   "source": [
    "import ipywidgets as widgets\n",
    "from IPython.display import display, HTML\n",
    "\n",
    "# Information and guidance\n",
    "guidance_text = \"\"\"\n",
    "<b>Guidance:</b><br>\n",
    "- <b>Per Capita Energy (kWh/year):</b> This is the average energy consumption per person in kilowatt-hours per year. \n",
    "For example, Canada's per capita energy consumption in 2023 was 25,100 kWh. Typical values range between 1,000 kWh (for developing countries) to 50,000 kWh (for developed countries).<br>\n",
    "- <b>Per Capita GDP (PPP USD/year):</b> This is the economic output per person, adjusted for purchasing power parity. \n",
    "For example, Canada's per capita GDP in 2023 was $52,000 USD. Values typically range from 2,000 USD (for low-income countries) to 100,000 USD (for high-income countries).<br>\n",
    "- <b>Energy-GDP Interaction:</b> This represents the combined metric that captures the interaction between energy consumption and economic output. A typical range is from 5,000 to 20,000 for most countries. This factor is important because it shows how a country's energy use is related to its economic development.<br>\n",
    "\"\"\"\n",
    "\n",
    "# Create widgets for inputs with increased width\n",
    "energy_consumption = widgets.FloatText(\n",
    "    description=\"Per Capita Energy (kWh/year):\",\n",
    "    value=25100,\n",
    "    layout=widgets.Layout(width='500px')  # Set wider width\n",
    ")\n",
    "gdp_ppp = widgets.FloatText(\n",
    "    description=\"Per Capita GDP (PPP USD/year):\",\n",
    "    value=52000,\n",
    "    layout=widgets.Layout(width='500px')  # Set wider width\n",
    ")\n",
    "energy_gdp_interaction = widgets.FloatText(\n",
    "    description=\"Energy-GDP Interaction (combined metric):\",\n",
    "    value=15000,\n",
    "    layout=widgets.Layout(width='500px')  # Set wider width\n",
    ")\n",
    "\n",
    "# Button for making the prediction\n",
    "predict_button = widgets.Button(description=\"Predict Carbon Emissions\", button_style='success')\n",
    "\n",
    "# Output for the prediction\n",
    "output = widgets.Output()\n",
    "\n",
    "# Function to interpret impact levels\n",
    "def interpret_impact(prediction):\n",
    "    if prediction < 5:\n",
    "        return \"\"\"\n",
    "        <span style='color:green; font-size:18px;'>Safe</span>: Emission levels are within sustainable limits.<br>\n",
    "        <b>Impact:</b> Minor sea level rise (1-3 mm/year). Minimal biodiversity loss.<br>\n",
    "        <b>Life Expectancy:</b> No significant impact. <br>\n",
    "        <b>Economic Impact:</b> Low, with industries largely unaffected. <br>\n",
    "        <b>Citation:</b> NOAA (2025), IPCC (2025).\n",
    "        \"\"\"\n",
    "    elif 5 <= prediction < 10:\n",
    "        return \"\"\"\n",
    "        <span style='color:orange; font-size:18px;'>Moderate</span>: Emissions may cause noticeable environmental impact.<br>\n",
    "        <b>Impact:</b> Sea levels rise by 0.2 meters by 2100, leading to moderate flooding in New York, Miami, and other coastal cities.<br>\n",
    "        Gradual melting of Arctic ice by 2050. Heatwaves and flooding risks increase.<br>\n",
    "        <b>Life Expectancy:</b> Estimated decrease by 2-3 years in developed countries by 2050.<br>\n",
    "        <b>Economic Impact:</b> Global GDP shrinks by 5-10% by 2050, affecting industries like tourism and agriculture.<br>\n",
    "        <b>Biodiversity Loss:</b> Extinction rates could increase by 15-20% by 2050 due to habitat destruction.<br>\n",
    "        <b>Citation:</b> IPCC (2025), World Bank (2025).\n",
    "        \"\"\"\n",
    "    else:\n",
    "        return \"\"\"\n",
    "        <span style='color:red; font-size:18px;'>Unsafe</span>: Emissions are too high, leading to severe environmental and health consequences.<br>\n",
    "        <b>Impact:</b> Sea levels rise by 0.5 meters or more by 2100, causing severe submergence in cities like Dhaka, Shanghai, and New Orleans.<br>\n",
    "        <b>Life Expectancy:</b> Estimated decrease by 5-7 years by 2050 in developed countries.<br>\n",
    "        <b>Economic Impact:</b> Global GDP shrinks by 10-15% by 2050, with severe effects on agriculture and the insurance industry.<br>\n",
    "        <b>Biodiversity Loss:</b> Extinction rates rise by 25-30%, with ecosystems like the Amazon and Arctic at extreme risk by 2050.<br>\n",
    "        <b>Citation:</b> IPCC (2025), United Nations Climate Report (2025).\n",
    "        \"\"\"\n",
    "\n",
    "# Function to predict carbon emissions (mocked prediction logic)\n",
    "def predict_carbon_emissions(energy, gdp, interaction):\n",
    "    return (energy * 0.0001 + gdp * 0.00005 + interaction * 0.00002)\n",
    "\n",
    "# Event handler for the button\n",
    "def on_button_click(b):\n",
    "    # Get the input values\n",
    "    energy = energy_consumption.value\n",
    "    gdp = gdp_ppp.value\n",
    "    interaction = energy_gdp_interaction.value\n",
    "    \n",
    "    # Make a prediction\n",
    "    prediction = predict_carbon_emissions(energy, gdp, interaction)\n",
    "    \n",
    "    # Display the result\n",
    "    with output:\n",
    "        output.clear_output()\n",
    "        impact_text = interpret_impact(prediction)\n",
    "        display(HTML(f\"<b>Predicted Per Capita Carbon Emissions:</b> {prediction:.2f} tons/year<br>{impact_text}\"))\n",
    "\n",
    "# Attach the event to the button\n",
    "predict_button.on_click(on_button_click)\n",
    "\n",
    "# Layout structure for a more organized view\n",
    "input_box = widgets.VBox([\n",
    "    energy_consumption, gdp_ppp, energy_gdp_interaction,\n",
    "    predict_button\n",
    "])\n",
    "\n",
    "# Display the guidance, widgets, and output\n",
    "display(HTML(guidance_text))\n",
    "display(input_box, output)"
   ]
  },
  {
   "cell_type": "code",
   "execution_count": null,
   "id": "f97b79af",
   "metadata": {},
   "outputs": [],
   "source": []
  }
 ],
 "metadata": {
  "kernelspec": {
   "display_name": "Python 3",
   "language": "python",
   "name": "python3"
  },
  "language_info": {
   "codemirror_mode": {
    "name": "ipython",
    "version": 3
   },
   "file_extension": ".py",
   "mimetype": "text/x-python",
   "name": "python",
   "nbconvert_exporter": "python",
   "pygments_lexer": "ipython3",
   "version": "3.11.7"
  }
 },
 "nbformat": 4,
 "nbformat_minor": 5
}
